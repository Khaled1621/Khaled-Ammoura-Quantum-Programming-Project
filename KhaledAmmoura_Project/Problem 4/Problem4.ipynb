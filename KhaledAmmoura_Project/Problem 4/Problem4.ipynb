{
 "cells": [
  {
   "cell_type": "markdown",
   "metadata": {},
   "source": [
    "Problem 4"
   ]
  },
  {
   "cell_type": "code",
   "execution_count": 55,
   "metadata": {},
   "outputs": [],
   "source": [
    "# All the imports\n",
    "import pennylane as qml\n",
    "import numpy as np"
   ]
  },
  {
   "cell_type": "code",
   "execution_count": null,
   "metadata": {},
   "outputs": [],
   "source": [
    "# Device\n",
    "dev = qml.device(\"default.qubit\", wires=2)"
   ]
  },
  {
   "cell_type": "code",
   "execution_count": null,
   "metadata": {},
   "outputs": [],
   "source": [
    "# Create the oracle\n",
    "def deutsch_oracle(f):\n",
    "    def oracle():\n",
    "        if f(0) == f(1):\n",
    "            # Apply Identity Gate --> Do nothing\n",
    "            pass\n",
    "        else:\n",
    "            # Apply CNOT gate to get the negation of the applied function on the qubit\n",
    "            qml.CNOT(wires=[0, 1])\n",
    "    return oracle"
   ]
  },
  {
   "cell_type": "code",
   "execution_count": 58,
   "metadata": {},
   "outputs": [],
   "source": [
    "@qml.qnode(dev)\n",
    "def deutsch_circuit(f):\n",
    "    # Apply Hadamard to the first qubit. Apply Pauli-X then Hadamard to the second qubit\n",
    "    qml.Hadamard(wires=0)\n",
    "    qml.PauliX(wires=1)\n",
    "    qml.Hadamard(wires=1)\n",
    "\n",
    "    # Apply the oracle\n",
    "    oracle = deutsch_oracle(f)\n",
    "    oracle()\n",
    "\n",
    "    # Apply Hadamard to the first qubit again. To get it back to the computational bases (either 0 or 1)\n",
    "    qml.Hadamard(wires=0)\n",
    "\n",
    "    # Measure the expectation value of Pauli-Z on the first qubit\n",
    "    return qml.expval(qml.PauliZ(0))\n"
   ]
  },
  {
   "cell_type": "code",
   "execution_count": 59,
   "metadata": {},
   "outputs": [],
   "source": [
    "# Drawing function\n",
    "def draw_circuit(circuit, f):\n",
    "    return qml.draw(circuit)(f)"
   ]
  },
  {
   "cell_type": "code",
   "execution_count": 60,
   "metadata": {},
   "outputs": [
    {
     "name": "stdout",
     "output_type": "stream",
     "text": [
      "0: ──H──H─┤  <Z>\n",
      "1: ──X──H─┤     \n",
      "Measurement result for constant function f(x) = 0: 0.9999999999999996\n",
      "0: ──H────╭●──H─┤  <Z>\n",
      "1: ──X──H─╰X────┤     \n",
      "Measurement result for balanced function f(x) = x: -0.9999999999999996\n",
      "Result for constant function: 0 (0 = constant)\n",
      "Result for balanced function: 1 (1 = balanced)\n"
     ]
    }
   ],
   "source": [
    "# Constant function f(x) = 0\n",
    "constant_f = lambda x: 0  # Function is constant\n",
    "result_constant = deutsch_circuit(constant_f)\n",
    "drawer1 = draw_circuit(deutsch_circuit, constant_f)\n",
    "print(drawer1)\n",
    "print(\"Measurement result for constant function f(x) = 0:\", result_constant)\n",
    "\n",
    "# Balanced function f(x) = x\n",
    "balanced_f = lambda x: x  # Function is balanced\n",
    "result_balanced = deutsch_circuit(balanced_f)\n",
    "drawer2 = draw_circuit(deutsch_circuit, balanced_f)\n",
    "print(drawer2)\n",
    "print(\"Measurement result for balanced function f(x) = x:\", result_balanced)\n",
    "\n",
    "# To identify which qubit it was exactly\n",
    "def interpret_expval(expval):\n",
    "    return 0 if expval > 0 else 1\n",
    "\n",
    "constant_result = interpret_expval(result_constant)\n",
    "balanced_result = interpret_expval(result_balanced)\n",
    "\n",
    "print(f\"Result for constant function: {constant_result} (0 = constant)\")\n",
    "print(f\"Result for balanced function: {balanced_result} (1 = balanced)\")\n"
   ]
  }
 ],
 "metadata": {
  "kernelspec": {
   "display_name": "Python 3",
   "language": "python",
   "name": "python3"
  },
  "language_info": {
   "codemirror_mode": {
    "name": "ipython",
    "version": 3
   },
   "file_extension": ".py",
   "mimetype": "text/x-python",
   "name": "python",
   "nbconvert_exporter": "python",
   "pygments_lexer": "ipython3",
   "version": "3.13.0"
  }
 },
 "nbformat": 4,
 "nbformat_minor": 2
}
