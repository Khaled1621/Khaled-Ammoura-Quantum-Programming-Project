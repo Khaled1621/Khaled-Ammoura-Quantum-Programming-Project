{
 "cells": [
  {
   "cell_type": "markdown",
   "metadata": {},
   "source": [
    "Problem 1"
   ]
  },
  {
   "cell_type": "code",
   "execution_count": 1,
   "metadata": {},
   "outputs": [],
   "source": [
    "# All the imports\n",
    "import pennylane as qml\n",
    "import numpy as np"
   ]
  },
  {
   "cell_type": "code",
   "execution_count": 2,
   "metadata": {},
   "outputs": [],
   "source": [
    "# Create the devices\n",
    "dev1 = qml.device(\"default.qubit\", wires=1)\n",
    "dev2 = qml.device(\"default.qubit\", wires=1)"
   ]
  },
  {
   "cell_type": "code",
   "execution_count": 3,
   "metadata": {},
   "outputs": [],
   "source": [
    "# Create the circuit function, which takes\n",
    "# Two angles: theta1 (θ_1) and theta2 (θ_2)\n",
    "# Two functions: func1 and func2, where they can be either RX or RY\n",
    "def circuit(theta1, theta2, func1, func2):\n",
    "    func1(theta1, wires=0)\n",
    "    func2(theta2, wires=0)\n",
    "    return qml.expval(qml.PauliX(wires=0)), qml.probs(wires=0), qml.expval(qml.PauliZ(wires=0))"
   ]
  },
  {
   "cell_type": "code",
   "execution_count": 4,
   "metadata": {},
   "outputs": [],
   "source": [
    "# Define the QNodes\n",
    "@qml.qnode(dev1)\n",
    "def circuit1(theta1, theta2):\n",
    "    return circuit(theta1, theta2, qml.RX, qml.RY)\n",
    "\n",
    "@qml.qnode(dev2)\n",
    "def circuit2(theta1, theta2):\n",
    "    return circuit(theta1, theta2, qml.RY, qml.RX)"
   ]
  },
  {
   "cell_type": "code",
   "execution_count": 5,
   "metadata": {},
   "outputs": [],
   "source": [
    "# Drawing function\n",
    "def draw_circuit(circuit, theta1, theta2):\n",
    "    return qml.draw(circuit)(theta1, theta2)"
   ]
  },
  {
   "cell_type": "code",
   "execution_count": 6,
   "metadata": {},
   "outputs": [],
   "source": [
    "# Initializations\n",
    "theta1 = np.pi / 3\n",
    "theta2 = np.pi / 4\n",
    "\n",
    "# Compute results for both circuits\n",
    "result1 = circuit1(theta1, theta2)\n",
    "result2 = circuit2(theta2, theta1)\n",
    "\n",
    "# Extract the results\n",
    "expval1_x, probs1, expval1_z = result1\n",
    "expval2_x, probs2, expval2_z = result2"
   ]
  },
  {
   "cell_type": "code",
   "execution_count": 7,
   "metadata": {},
   "outputs": [
    {
     "name": "stdout",
     "output_type": "stream",
     "text": [
      "Circuit 1:  0: ──RX(1.05)──RY(0.79)─┤  <X>  Probs  <Z>\n",
      "Circuit 1 - Expectation Value of Pauli-X: 0.3536\n",
      "Circuit 1 - Expectation Value of Pauli-Z: 0.3536\n",
      "Circuit 1 - Probability |0>: 0.6768, Probability |1>: 0.3232\n",
      "Circuit 2:  0: ──RY(0.79)──RX(1.05)─┤  <X>  Probs  <Z>\n",
      "Circuit 2 - Expectation Value of Pauli-X: 0.7071\n",
      "Circuit 2 - Expectation Value of Pauli-Z: 0.3536\n",
      "Circuit 2 - Probability |0>: 0.6768, Probability |1>: 0.3232\n"
     ]
    }
   ],
   "source": [
    "# Draw the circuits and print the results\n",
    "drawer1 = draw_circuit(circuit1, theta1, theta2)\n",
    "print(\"Circuit 1: \",drawer1)\n",
    "print(f\"Circuit 1 - Expectation Value of Pauli-X: {expval1_x:.4f}\")\n",
    "print(f\"Circuit 1 - Expectation Value of Pauli-Z: {expval1_z:.4f}\")\n",
    "print(f\"Circuit 1 - Probability |0>: {probs1[0]:.4f}, Probability |1>: {probs1[1]:.4f}\")\n",
    "\n",
    "drawer2 = draw_circuit(circuit2, theta2, theta1)\n",
    "print(\"Circuit 2: \",drawer2)\n",
    "print(f\"Circuit 2 - Expectation Value of Pauli-X: {expval2_x:.4f}\")\n",
    "print(f\"Circuit 2 - Expectation Value of Pauli-Z: {expval2_z:.4f}\")\n",
    "print(f\"Circuit 2 - Probability |0>: {probs2[0]:.4f}, Probability |1>: {probs2[1]:.4f}\")"
   ]
  },
  {
   "cell_type": "markdown",
   "metadata": {},
   "source": [
    "To check the expected value:\n",
    "\n",
    "Let the final state of the |ψ>\n",
    "\n",
    "Then, to get the expectation value of the Pauli-X gate, we need to calculate:<ψ|X|ψ>"
   ]
  },
  {
   "cell_type": "code",
   "execution_count": 8,
   "metadata": {},
   "outputs": [
    {
     "name": "stdout",
     "output_type": "stream",
     "text": [
      "Absolute Difference of Pauli-X: 0.3536\n",
      "Absolute Difference of Paulit-Z: 0.0000\n"
     ]
    }
   ],
   "source": [
    "# Calculate the absolute difference\n",
    "absolute_difference_x = np.abs(expval1_x - expval2_x)\n",
    "print(f\"Absolute Difference of Pauli-X: {absolute_difference_x:.4f}\")\n",
    "\n",
    "absolute_difference_z = np.abs(expval1_z - expval2_z)\n",
    "print(f\"Absolute Difference of Paulit-Z: {absolute_difference_z:.4f}\")"
   ]
  },
  {
   "cell_type": "markdown",
   "metadata": {},
   "source": [
    "Question 1:\n",
    "What differences do you observe between the outcomes of the two circuits when\n",
    "measuring in the Pauli-X basis?\n",
    "\n",
    "Answer:\n",
    "\n",
    "First, we need to note that the expectation value of Pauli-X obsevable is determined by the state's alignment with the X-axis on the Bloch sphere, meaning Pauli-X measures the projection of the final state along the X-axis. Inituitively, someone would say that we should have the same expectation value in both circuits. For example, let's take a classical example, suppose I have a ball that I should move only in two routines, either up then right, or right then up. Classically, someone would say that immaterial of which routine we take the ball will end at the same place, which is correct, but in classical scenarios, not in quantum mechanics. Quantum rotations don't commute, meaning the order of the applied unitary operations matters in quantum mechanics.\n",
    "\n",
    "Going back to the question, assuming for the sack of clarification that theta1 = π/3 and theta2 = π/4, we observed that the expectation value of Pauli-X observable for circuit-1 is: 0.3536 and that of circuit-2 is: 0.7071. This means that circuit-2 has a stronger alignment with the X-axis. \n"
   ]
  },
  {
   "cell_type": "markdown",
   "metadata": {},
   "source": [
    "Question 2:\n",
    "How does the result change when measuring in the Pauli-Z basis?\n",
    "\n",
    "Answer:\n",
    "\n",
    "Both circuits produce the same ⟨𝑍⟩ values. This is because the gate combinations in both circuits generate states with the same symmetry along the Z-axis., i.e. absolute difference = 0. Circuit-1: 0.3536 and Circuit-2: 0.3536, there absoulue diffecence = 0, as expected."
   ]
  },
  {
   "cell_type": "markdown",
   "metadata": {},
   "source": [
    "Question 3:\n",
    "Does the order of operations (RX and RY) affect the results in the same way for\n",
    "both Pauli-X and Pauli-Z measurements?\n",
    "\n",
    "Answer:\n",
    "\n",
    "No. The order in which RX and RY are applied significantly affects ⟨X⟩, but didn't affect that of ⟨𝑍⟩. Since, for ⟨X⟩ it results in different alignments with the X-axis, however for ⟨𝑍⟩ it results in a symmetric state indifferent of the order."
   ]
  },
  {
   "cell_type": "markdown",
   "metadata": {},
   "source": [
    "Question 4:\n",
    "What insights can you derive about the nature of these rotation gates based on your results?\n",
    "\n",
    "Answer:\n",
    "\n",
    "Someone would notice that the probability of the computation basis (i.e., |0> and |1>) is the same for the 4 circuits (2 for ⟨X⟩, 2 for ⟨𝑍⟩), because the probability of these gates depends on their projection on the Z-axis, and since there were no rotations along that axis (only on X-axis and Y-axis),the effect of these rotations do not directly affect the state's alignment with the Z-axis in a way that changes the probabilities in the computational basis. Therefore, their probabilities are expected to be the same, and that what we observed. Circuit 1-2-3-4: P(|0>) = 0.6768 and P(|1>) = 0.3232. "
   ]
  }
 ],
 "metadata": {
  "kernelspec": {
   "display_name": "Python 3",
   "language": "python",
   "name": "python3"
  },
  "language_info": {
   "codemirror_mode": {
    "name": "ipython",
    "version": 3
   },
   "file_extension": ".py",
   "mimetype": "text/x-python",
   "name": "python",
   "nbconvert_exporter": "python",
   "pygments_lexer": "ipython3",
   "version": "3.13.0"
  }
 },
 "nbformat": 4,
 "nbformat_minor": 2
}
