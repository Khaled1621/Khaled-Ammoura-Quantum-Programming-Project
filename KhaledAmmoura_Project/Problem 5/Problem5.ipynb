{
 "cells": [
  {
   "cell_type": "markdown",
   "metadata": {},
   "source": [
    "Problem 5"
   ]
  },
  {
   "cell_type": "code",
   "execution_count": 15,
   "metadata": {},
   "outputs": [],
   "source": [
    "# All the imports\n",
    "import pennylane as qml\n",
    "import numpy as np"
   ]
  },
  {
   "cell_type": "code",
   "execution_count": 16,
   "metadata": {},
   "outputs": [],
   "source": [
    "# Initialization\n",
    "num_qubits =int(input(\"Enter the desired number of qubits: \"))"
   ]
  },
  {
   "cell_type": "code",
   "execution_count": 17,
   "metadata": {},
   "outputs": [],
   "source": [
    "# Create the device\n",
    "dev = qml.device(\"default.qubit\", wires=num_qubits)"
   ]
  },
  {
   "cell_type": "code",
   "execution_count": 18,
   "metadata": {},
   "outputs": [],
   "source": [
    "# Create the oracle\n",
    "def deutsch_oracle(f):\n",
    "    def oracle():\n",
    "        for i in range(num_qubits - 1):\n",
    "            if f(i): # If f(i)==1\n",
    "                qml.CNOT(wires=[i, num_qubits - 1])\n",
    "    return oracle"
   ]
  },
  {
   "cell_type": "code",
   "execution_count": 19,
   "metadata": {},
   "outputs": [],
   "source": [
    "# Create the circuit\n",
    "@qml.qnode(dev)\n",
    "def deutsch_jozsa_circuit(f):\n",
    "    # Apply Hadamard gates to the first n-1 qubits\n",
    "    for i in range(num_qubits - 1):\n",
    "        qml.Hadamard(wires=i)\n",
    "    # Apply X gate to the last qubit\n",
    "    qml.PauliX(wires=num_qubits - 1)\n",
    "    qml.Hadamard(wires=num_qubits - 1)\n",
    "\n",
    "    # Apply the oracle\n",
    "    oracle = deutsch_oracle(f)\n",
    "    oracle()\n",
    "\n",
    "    # Apply Hadamard to the first n-1 qubits again\n",
    "    for i in range(num_qubits - 1):\n",
    "        qml.Hadamard(wires=i)\n",
    "\n",
    "    return [qml.expval(qml.PauliZ(i)) for i in range(num_qubits - 1)]"
   ]
  },
  {
   "cell_type": "code",
   "execution_count": 20,
   "metadata": {},
   "outputs": [],
   "source": [
    "# Drawing function\n",
    "def draw_circuit(circuit, f):\n",
    "    return qml.draw(circuit)(f)"
   ]
  },
  {
   "cell_type": "code",
   "execution_count": 21,
   "metadata": {},
   "outputs": [
    {
     "name": "stdout",
     "output_type": "stream",
     "text": [
      "0: ──H──H─┤  <Z>\n",
      "1: ──H──H─┤  <Z>\n",
      "2: ──X──H─┤     \n",
      "Measurement result for constant function f(x) = 0: [0.9999999999999992, 0.9999999999999992]\n",
      "0: ──H──H───────┤  <Z>\n",
      "1: ──H────╭●──H─┤  <Z>\n",
      "2: ──X──H─╰X────┤     \n",
      "Measurement result for balanced function f(x) = x: [0.9999999999999992, -0.9999999999999992]\n",
      "Result for constant function: 0 (0 = constant)\n",
      "Result for balanced function: 1 (1 = balanced)\n"
     ]
    }
   ],
   "source": [
    "# Constant function f(x) = 0\n",
    "constant_f = lambda x: 0  # Function is constant\n",
    "result_constant = deutsch_jozsa_circuit(constant_f)\n",
    "drawer1 = draw_circuit(deutsch_jozsa_circuit, constant_f)\n",
    "print(drawer1)\n",
    "print(\"Measurement result for constant function f(x) = 0:\", [float(val) for val in result_constant])\n",
    "\n",
    "# Balanced function f(x) = x\n",
    "balanced_f = lambda x: x  # Function is balanced\n",
    "result_balanced = deutsch_jozsa_circuit(balanced_f)\n",
    "drawer2 = draw_circuit(deutsch_jozsa_circuit, balanced_f)\n",
    "print(drawer2)\n",
    "print(\"Measurement result for balanced function f(x) = x:\", [float(val) for val in result_balanced])\n",
    "\n",
    "# To identify which qubit it was exactly\n",
    "def interpret_expval(expvals):\n",
    "    return 0 if all(e > 0 for e in expvals) else 1\n",
    "\n",
    "constant_result = interpret_expval(result_constant)\n",
    "balanced_result = interpret_expval(result_balanced)\n",
    "\n",
    "print(f\"Result for constant function: {constant_result} (0 = constant)\")\n",
    "print(f\"Result for balanced function: {balanced_result} (1 = balanced)\")"
   ]
  }
 ],
 "metadata": {
  "kernelspec": {
   "display_name": "Python 3",
   "language": "python",
   "name": "python3"
  },
  "language_info": {
   "codemirror_mode": {
    "name": "ipython",
    "version": 3
   },
   "file_extension": ".py",
   "mimetype": "text/x-python",
   "name": "python",
   "nbconvert_exporter": "python",
   "pygments_lexer": "ipython3",
   "version": "3.13.0"
  }
 },
 "nbformat": 4,
 "nbformat_minor": 2
}
