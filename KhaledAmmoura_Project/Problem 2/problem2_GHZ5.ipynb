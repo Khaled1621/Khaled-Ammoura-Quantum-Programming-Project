{
 "cells": [
  {
   "cell_type": "code",
   "execution_count": 27,
   "metadata": {},
   "outputs": [],
   "source": [
    "# All the imports\n",
    "import pennylane as qml\n",
    "import numpy as np"
   ]
  },
  {
   "cell_type": "code",
   "execution_count": 28,
   "metadata": {},
   "outputs": [],
   "source": [
    "# Initialization\n",
    "num_qubits = 5"
   ]
  },
  {
   "cell_type": "code",
   "execution_count": 29,
   "metadata": {},
   "outputs": [],
   "source": [
    "# Create the device\n",
    "dev = qml.device(\"default.qubit\", wires=num_qubits)"
   ]
  },
  {
   "cell_type": "code",
   "execution_count": 30,
   "metadata": {},
   "outputs": [],
   "source": [
    "# Create the Circuit\n",
    "@qml.qnode(dev)\n",
    "def circuit():\n",
    "    qml.Hadamard(wires=0)\n",
    "    qml.CNOT(wires=[0,4])\n",
    "    qml.CNOT(wires=[0,2])\n",
    "    qml.CNOT(wires=[0,1])\n",
    "    qml.CNOT(wires=[2,3])\n",
    "    return qml.state(), qml.probs(wires=[0,1,2,3,4])\n",
    "@qml.qnode(dev)\n",
    "def expval_circuit():\n",
    "    qml.Hadamard(wires=0)\n",
    "    qml.CNOT(wires=[0,4])\n",
    "    qml.CNOT(wires=[0,2])\n",
    "    qml.CNOT(wires=[0,1])\n",
    "    qml.CNOT(wires=[2,3])\n",
    "    return [qml.expval(qml.PauliZ(wires=i)) for i in range(num_qubits)]"
   ]
  },
  {
   "cell_type": "code",
   "execution_count": 31,
   "metadata": {},
   "outputs": [],
   "source": [
    "# Drawing function\n",
    "def draw_circuit(circuit):\n",
    "    return qml.draw(circuit)()\n",
    "drawer = draw_circuit(circuit)\n",
    "drawer2 = draw_circuit(expval_circuit)"
   ]
  },
  {
   "cell_type": "code",
   "execution_count": 32,
   "metadata": {},
   "outputs": [],
   "source": [
    "# Test\n",
    "states, probabilities = circuit()\n",
    "exp_vals = expval_circuit()"
   ]
  },
  {
   "cell_type": "code",
   "execution_count": 33,
   "metadata": {},
   "outputs": [],
   "source": [
    "# Create the target state \n",
    "GHZ_target = np.zeros(2**num_qubits)\n",
    "GHZ_target[0] = 1 / np.sqrt(2)  # Coefficient for |00000>\n",
    "GHZ_target[-1] = 1 / np.sqrt(2)  # Coefficient for |11111>\n",
    "fidelity = np.abs(np.dot(np.conj(GHZ_target), states))**2"
   ]
  },
  {
   "cell_type": "code",
   "execution_count": 34,
   "metadata": {},
   "outputs": [
    {
     "name": "stdout",
     "output_type": "stream",
     "text": [
      "Generated Quantum Circuits:\n",
      " 0: ──H─╭●─╭●─╭●─┤  State ╭Probs\n",
      "1: ────│──│──╰X─┤  State ├Probs\n",
      "2: ────│──╰X─╭●─┤  State ├Probs\n",
      "3: ────│─────╰X─┤  State ├Probs\n",
      "4: ────╰X───────┤  State ╰Probs\n",
      "Generated Quantum Circuits of the Exp Val:\n",
      " 0: ──H─╭●─╭●─╭●─┤  <Z>\n",
      "1: ────│──│──╰X─┤  <Z>\n",
      "2: ────│──╰X─╭●─┤  <Z>\n",
      "3: ────│─────╰X─┤  <Z>\n",
      "4: ────╰X───────┤  <Z>\n",
      "Generated GHZ State Vector:\n",
      " [0.70710678+0.j 0.        +0.j 0.        +0.j 0.        +0.j\n",
      " 0.        +0.j 0.        +0.j 0.        +0.j 0.        +0.j\n",
      " 0.        +0.j 0.        +0.j 0.        +0.j 0.        +0.j\n",
      " 0.        +0.j 0.        +0.j 0.        +0.j 0.        +0.j\n",
      " 0.        +0.j 0.        +0.j 0.        +0.j 0.        +0.j\n",
      " 0.        +0.j 0.        +0.j 0.        +0.j 0.        +0.j\n",
      " 0.        +0.j 0.        +0.j 0.        +0.j 0.        +0.j\n",
      " 0.        +0.j 0.        +0.j 0.        +0.j 0.70710678+0.j]\n",
      "Fidelity with Target GHZ State: 0.9999999999999996\n",
      "Expectation Values: [0.0, 0.0, 0.0, 0.0, 0.0]\n",
      "Measurement Probabilities (|00000>, ..., |11111>): [0.5 0.  0.  0.  0.  0.  0.  0.  0.  0.  0.  0.  0.  0.  0.  0.  0.  0.\n",
      " 0.  0.  0.  0.  0.  0.  0.  0.  0.  0.  0.  0.  0.  0.5]\n"
     ]
    }
   ],
   "source": [
    "print(\"Generated Quantum Circuits:\\n\", drawer)\n",
    "print(\"Generated Quantum Circuits of the Exp Val:\\n\", drawer2)\n",
    "print(\"Generated GHZ State Vector:\\n\", states)\n",
    "print(\"Fidelity with Target GHZ State:\", fidelity)\n",
    "exp_vals_clean = [float(val) for val in exp_vals]\n",
    "print(f\"Expectation Values: {exp_vals_clean}\")\n",
    "print(\"Measurement Probabilities (|00000>, ..., |11111>):\", probabilities)"
   ]
  }
 ],
 "metadata": {
  "kernelspec": {
   "display_name": "Python 3",
   "language": "python",
   "name": "python3"
  },
  "language_info": {
   "codemirror_mode": {
    "name": "ipython",
    "version": 3
   },
   "file_extension": ".py",
   "mimetype": "text/x-python",
   "name": "python",
   "nbconvert_exporter": "python",
   "pygments_lexer": "ipython3",
   "version": "3.13.0"
  }
 },
 "nbformat": 4,
 "nbformat_minor": 2
}
